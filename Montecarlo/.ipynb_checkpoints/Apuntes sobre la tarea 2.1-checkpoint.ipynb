{
 "cells": [
  {
   "cell_type": "markdown",
   "id": "219962bf",
   "metadata": {},
   "source": [
    "## Apuntes sobre la tarea 2.1"
   ]
  },
  {
   "cell_type": "code",
   "execution_count": null,
   "id": "64b36bd3",
   "metadata": {},
   "outputs": [],
   "source": [
    "def apostador(Ci,n):\n",
    "    C=[Ci]\n",
    "    i=0\n",
    "    while((C[-1]>0)and(i<n)):\n",
    "        C.append(juego(C[-1])) # juego(Ci)  ->  determina el capital despues de ganar o perder el volado.\n",
    "                                                                         # C=C+np.random.choice([1,-1])*A\n",
    "        i+=1 # i=i+1\n",
    "    return C"
   ]
  },
  {
   "cell_type": "code",
   "execution_count": null,
   "id": "b2c96476",
   "metadata": {},
   "outputs": [],
   "source": [
    "# Simulación Montecarlo con 100000 apostadores\n",
    "#\n",
    "V=[]\n",
    "for i in range(10**5):\n",
    "    V.append(len(apostador(20,100))-1) # Cuantas apuestas fueron necesarias para llegar a cero (o menos)\n",
    "plt.hist(V)\n",
    "plt.grid()\n",
    "np.mean(V)"
   ]
  }
 ],
 "metadata": {
  "kernelspec": {
   "display_name": "Python 3 (ipykernel)",
   "language": "python",
   "name": "python3"
  },
  "language_info": {
   "codemirror_mode": {
    "name": "ipython",
    "version": 3
   },
   "file_extension": ".py",
   "mimetype": "text/x-python",
   "name": "python",
   "nbconvert_exporter": "python",
   "pygments_lexer": "ipython3",
   "version": "3.9.12"
  }
 },
 "nbformat": 4,
 "nbformat_minor": 5
}
